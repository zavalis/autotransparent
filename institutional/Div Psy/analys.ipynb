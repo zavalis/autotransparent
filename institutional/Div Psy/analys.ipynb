{
 "cells": [
  {
   "cell_type": "code",
   "execution_count": 2,
   "metadata": {},
   "outputs": [],
   "source": [
    "import pandas as pd"
   ]
  },
  {
   "cell_type": "code",
   "execution_count": null,
   "metadata": {},
   "outputs": [],
   "source": [
    "with open('pmids.txt', 'w') as f:\n",
    "    f.write(\n",
    "' OR '.join(pd.read_csv('cns_pmids_2010_2022_lastau.csv')['pmid'].astype(str)))"
   ]
  },
  {
   "cell_type": "code",
   "execution_count": null,
   "metadata": {},
   "outputs": [],
   "source": [
    "df1=pd.read_csv('pmcids_psy.csv')\n",
    "df2=pd.read_csv('cns_pmids_2010_2022_lastau.csv')"
   ]
  },
  {
   "cell_type": "code",
   "execution_count": null,
   "metadata": {},
   "outputs": [],
   "source": [
    "pd.merge(df1, df2, on=\"pmid\").to_csv('bib_pmc.csv')"
   ]
  },
  {
   "cell_type": "code",
   "execution_count": 3,
   "metadata": {},
   "outputs": [],
   "source": [
    "df1=pd.read_csv('code.csv')\n",
    "df2=pd.read_csv('rest.csv')"
   ]
  },
  {
   "cell_type": "code",
   "execution_count": 4,
   "metadata": {},
   "outputs": [],
   "source": [
    "alltransp=pd.merge(df1, df2, on=\"pmid\")"
   ]
  },
  {
   "cell_type": "code",
   "execution_count": 5,
   "metadata": {},
   "outputs": [
    {
     "data": {
      "text/plain": [
       "['Unnamed: 0_x',\n",
       " 'pmid',\n",
       " 'pmcid_pmc_x',\n",
       " 'pmcid_uid_x',\n",
       " 'doi_x',\n",
       " 'filename_x',\n",
       " 'is_research_x',\n",
       " 'is_review_x',\n",
       " 'is_relevant_data',\n",
       " 'is_relevant_code',\n",
       " 'article',\n",
       " 'is_open_data',\n",
       " 'open_data_category',\n",
       " 'is_open_code',\n",
       " 'open_data_statements',\n",
       " 'open_code_statements',\n",
       " 'is_success_x',\n",
       " 'Unnamed: 0_y',\n",
       " 'pmcid_pmc_y',\n",
       " 'pmcid_uid_y',\n",
       " 'doi_y',\n",
       " 'filename_y',\n",
       " 'journal',\n",
       " 'publisher',\n",
       " 'affiliation_institution',\n",
       " 'affiliation_country',\n",
       " 'year_epub',\n",
       " 'year_ppub',\n",
       " 'is_coi_pred',\n",
       " 'coi_text',\n",
       " 'is_coi_pmc_fn',\n",
       " 'is_coi_pmc_title',\n",
       " 'is_explicit_coi',\n",
       " 'coi_1',\n",
       " 'coi_2',\n",
       " 'coi_disclosure_1',\n",
       " 'commercial_1',\n",
       " 'benefit_1',\n",
       " 'consultant_1',\n",
       " 'grants_1',\n",
       " 'brief_1',\n",
       " 'fees_1',\n",
       " 'consults_1',\n",
       " 'connect_1',\n",
       " 'connect_2',\n",
       " 'commercial_ack_1',\n",
       " 'rights_1',\n",
       " 'founder_1',\n",
       " 'advisor_1',\n",
       " 'paid_1',\n",
       " 'board_1',\n",
       " 'no_coi_1',\n",
       " 'no_funder_role_1',\n",
       " 'is_fund_pred',\n",
       " 'fund_text',\n",
       " 'fund_pmc_institute',\n",
       " 'fund_pmc_source',\n",
       " 'fund_pmc_anysource',\n",
       " 'is_fund_pmc_group',\n",
       " 'is_fund_pmc_title',\n",
       " 'is_fund_pmc_anysource',\n",
       " 'is_relevant_fund',\n",
       " 'is_explicit_fund',\n",
       " 'support_1',\n",
       " 'support_3',\n",
       " 'support_4',\n",
       " 'support_5',\n",
       " 'support_6',\n",
       " 'support_7',\n",
       " 'support_8',\n",
       " 'support_9',\n",
       " 'support_10',\n",
       " 'developed_1',\n",
       " 'received_1',\n",
       " 'received_2',\n",
       " 'recipient_1',\n",
       " 'authors_1',\n",
       " 'authors_2',\n",
       " 'thank_1',\n",
       " 'thank_2',\n",
       " 'fund_1',\n",
       " 'fund_2',\n",
       " 'fund_3',\n",
       " 'supported_1',\n",
       " 'financial_1',\n",
       " 'financial_2',\n",
       " 'financial_3',\n",
       " 'grant_1',\n",
       " 'french_1',\n",
       " 'common_1',\n",
       " 'common_2',\n",
       " 'common_3',\n",
       " 'common_4',\n",
       " 'common_5',\n",
       " 'acknow_1',\n",
       " 'disclosure_1',\n",
       " 'disclosure_2',\n",
       " 'fund_ack',\n",
       " 'project_ack',\n",
       " 'is_register_pred',\n",
       " 'register_text',\n",
       " 'type',\n",
       " 'is_research_y',\n",
       " 'is_review_y',\n",
       " 'is_reg_pmc_title',\n",
       " 'is_relevant_reg',\n",
       " 'is_method',\n",
       " 'is_NCT',\n",
       " 'is_explicit_reg',\n",
       " 'prospero_1',\n",
       " 'registered_1',\n",
       " 'registered_2',\n",
       " 'registered_3',\n",
       " 'registered_4',\n",
       " 'registered_5',\n",
       " 'not_registered_1',\n",
       " 'registration_1',\n",
       " 'registration_2',\n",
       " 'registration_3',\n",
       " 'registration_4',\n",
       " 'registry_1',\n",
       " 'reg_title_1',\n",
       " 'reg_title_2',\n",
       " 'reg_title_3',\n",
       " 'reg_title_4',\n",
       " 'funded_ct_1',\n",
       " 'ct_2',\n",
       " 'ct_3',\n",
       " 'protocol_1',\n",
       " 'is_success_y',\n",
       " 'is_relevant_coi',\n",
       " 'is_relevant_coi_hi',\n",
       " 'is_relevant_coi_lo']"
      ]
     },
     "execution_count": 5,
     "metadata": {},
     "output_type": "execute_result"
    }
   ],
   "source": [
    "list(alltransp.columns)"
   ]
  },
  {
   "cell_type": "code",
   "execution_count": 6,
   "metadata": {},
   "outputs": [],
   "source": [
    "alltransp=pd.merge(alltransp,pd.read_csv('./bib_pmc.csv'),on='pmid')"
   ]
  },
  {
   "cell_type": "code",
   "execution_count": 7,
   "metadata": {},
   "outputs": [],
   "source": [
    "select=alltransp[['pmid','Authors','Title','last_author','publication_year','is_open_data','open_data_statements','is_open_code','open_code_statements','is_register_pred','register_text','is_coi_pred','coi_text','is_fund_pred','fund_text']]"
   ]
  },
  {
   "cell_type": "code",
   "execution_count": 8,
   "metadata": {},
   "outputs": [],
   "source": [
    "select.to_csv('transp.csv')"
   ]
  },
  {
   "cell_type": "code",
   "execution_count": 44,
   "metadata": {},
   "outputs": [
    {
     "name": "stderr",
     "output_type": "stream",
     "text": [
      "/var/folders/wx/sx67klw51p99ypb39mtcwx_00000gn/T/ipykernel_22121/4249373536.py:1: SettingWithCopyWarning: \n",
      "A value is trying to be set on a copy of a slice from a DataFrame.\n",
      "Try using .loc[row_indexer,col_indexer] = value instead\n",
      "\n",
      "See the caveats in the documentation: https://pandas.pydata.org/pandas-docs/stable/user_guide/indexing.html#returning-a-view-versus-a-copy\n",
      "  select['is_open_data']=select['is_open_data'].astype('bool')\n",
      "/var/folders/wx/sx67klw51p99ypb39mtcwx_00000gn/T/ipykernel_22121/4249373536.py:2: SettingWithCopyWarning: \n",
      "A value is trying to be set on a copy of a slice from a DataFrame.\n",
      "Try using .loc[row_indexer,col_indexer] = value instead\n",
      "\n",
      "See the caveats in the documentation: https://pandas.pydata.org/pandas-docs/stable/user_guide/indexing.html#returning-a-view-versus-a-copy\n",
      "  select['is_open_code']=select['is_open_code'].astype('bool')\n"
     ]
    }
   ],
   "source": [
    "select['is_open_data']=select['is_open_data'].astype('bool')\n",
    "select['is_open_code']=select['is_open_code'].astype('bool')"
   ]
  },
  {
   "cell_type": "code",
   "execution_count": 15,
   "metadata": {},
   "outputs": [
    {
     "name": "stdout",
     "output_type": "stream",
     "text": [
      "0.031476997578692496 0.1791767554479419 0.23373493975903614 0.8746987951807229 0.9180722891566265\n"
     ]
    }
   ],
   "source": [
    "print(select['is_open_code'].mean(),\n",
    "select['is_open_data'].mean(),\n",
    "select['is_register_pred'].mean(),\n",
    "select['is_coi_pred'].mean(),\n",
    "select['is_fund_pred'].mean())"
   ]
  },
  {
   "cell_type": "code",
   "execution_count": 46,
   "metadata": {},
   "outputs": [],
   "source": [
    "columns=['is_coi_pred','is_register_pred','is_fund_pred','is_open_code','is_open_data','publication_year']\n",
    "df_temp=pd.DataFrame(select, columns=columns)\n",
    "\n",
    "round(df_temp.groupby(['publication_year']).mean()*100,1).to_csv('./general_transparency.csv')"
   ]
  },
  {
   "cell_type": "code",
   "execution_count": 47,
   "metadata": {},
   "outputs": [],
   "source": [
    "columns=['is_coi_pred','is_register_pred','is_fund_pred','is_open_code','is_open_data','last_author']\n",
    "df_temp=pd.DataFrame(select, columns=columns)\n",
    "\n",
    "round(df_temp.groupby(['last_author']).mean()*100,1).to_csv('./last_au.csv')"
   ]
  },
  {
   "cell_type": "code",
   "execution_count": 24,
   "metadata": {},
   "outputs": [
    {
     "data": {
      "text/plain": [
       "<pandas.core.groupby.generic.DataFrameGroupBy object at 0x7fb898532a00>"
      ]
     },
     "execution_count": 24,
     "metadata": {},
     "output_type": "execute_result"
    }
   ],
   "source": [
    "df_temp.groupby(['publication_year']).mean()"
   ]
  },
  {
   "cell_type": "code",
   "execution_count": null,
   "metadata": {},
   "outputs": [],
   "source": []
  }
 ],
 "metadata": {
  "kernelspec": {
   "display_name": "base",
   "language": "python",
   "name": "python3"
  },
  "language_info": {
   "codemirror_mode": {
    "name": "ipython",
    "version": 3
   },
   "file_extension": ".py",
   "mimetype": "text/x-python",
   "name": "python",
   "nbconvert_exporter": "python",
   "pygments_lexer": "ipython3",
   "version": "3.9.7"
  },
  "orig_nbformat": 4,
  "vscode": {
   "interpreter": {
    "hash": "69b35e572c017242754d2580afe35edb3e077b807609d926fbd2f462de31a9e0"
   }
  }
 },
 "nbformat": 4,
 "nbformat_minor": 2
}
