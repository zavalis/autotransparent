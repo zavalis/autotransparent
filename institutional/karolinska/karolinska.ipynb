{
 "cells": [
  {
   "cell_type": "code",
   "execution_count": 1,
   "metadata": {},
   "outputs": [
    {
     "name": "stderr",
     "output_type": "stream",
     "text": [
      "/var/folders/33/b1s2x_2166q65n2gxsrf_h9h0000gn/T/ipykernel_22847/4080736814.py:1: DeprecationWarning: \n",
      "Pyarrow will become a required dependency of pandas in the next major release of pandas (pandas 3.0),\n",
      "(to allow more performant data types, such as the Arrow string type, and better interoperability with other libraries)\n",
      "but was not found to be installed on your system.\n",
      "If this would cause problems for you,\n",
      "please provide us feedback at https://github.com/pandas-dev/pandas/issues/54466\n",
      "        \n",
      "  import pandas as pd\n"
     ]
    }
   ],
   "source": [
    "import pandas as pd"
   ]
  },
  {
   "cell_type": "markdown",
   "metadata": {},
   "source": [
    "## Read all the data"
   ]
  },
  {
   "cell_type": "code",
   "execution_count": 2,
   "metadata": {},
   "outputs": [],
   "source": [
    "left=pd.read_csv('karolinska.csv')\n",
    "pmcoaki=pd.read_csv('./pmcoalist_ki.csv')\n",
    "pmcoaki = pmcoaki.rename(columns={'PMID':'pmid'})\n",
    "\n",
    "left=left.dropna(subset=['is_open_code','is_open_data','is_register_pred','is_coi_pred','is_fund_pred'])\n",
    "left=pd.merge(left,pmcoaki,on='pmid')\n",
    "left=left[left.is_research_x]\n",
    "columns=['pmid','is_coi_pred','is_register_pred','is_fund_pred','is_open_code','is_open_data','Publication Year','Institution','Journal/Book']\n",
    "left=pd.DataFrame(left, columns=columns)"
   ]
  },
  {
   "cell_type": "code",
   "execution_count": 3,
   "metadata": {},
   "outputs": [],
   "source": [
    "right=pd.read_csv('kidept_pmids_orgbased_2010_2022.csv')"
   ]
  },
  {
   "cell_type": "code",
   "execution_count": 4,
   "metadata": {},
   "outputs": [],
   "source": [
    "df=left.set_index('pmid').join(right.set_index('pmid'), how='inner')\n",
    "df['is_open_code']=df['is_open_code'].astype('bool')\n",
    "df['is_open_data']=df['is_open_data'].astype('bool')"
   ]
  },
  {
   "cell_type": "code",
   "execution_count": 5,
   "metadata": {},
   "outputs": [],
   "source": [
    "df=df[df['Publication Year'].isin([2017,2018,2019,2020,2021])]"
   ]
  },
  {
   "cell_type": "code",
   "execution_count": 6,
   "metadata": {},
   "outputs": [],
   "source": [
    "df.to_csv('raw.csv')"
   ]
  },
  {
   "cell_type": "markdown",
   "metadata": {},
   "source": [
    "## Remove institutions with too few publications"
   ]
  },
  {
   "cell_type": "code",
   "execution_count": 19,
   "metadata": {},
   "outputs": [],
   "source": [
    "remove_low=pd.DataFrame(df.groupby([ \"Publication Year\", \"short_name\"] ).size().reset_index())\n",
    "indices=remove_low[0][lambda x: x>50].index.tolist()\n",
    "remove_low=remove_low.iloc[indices]\n",
    "inst=set(remove_low.short_name)\n",
    "inst=list(inst)\n",
    "\n",
    "df_clean=df[df['short_name'].isin(inst)]"
   ]
  },
  {
   "cell_type": "code",
   "execution_count": 20,
   "metadata": {},
   "outputs": [],
   "source": [
    "round(df_clean.groupby(['Publication Year','short_name']).mean()*100,1).to_csv('general.csv')"
   ]
  },
  {
   "cell_type": "markdown",
   "metadata": {},
   "source": [
    "# Map to specific groupings"
   ]
  },
  {
   "cell_type": "markdown",
   "metadata": {},
   "source": [
    "## SOLVE THIS WHEN YOU GET BACK"
   ]
  },
  {
   "cell_type": "code",
   "execution_count": 21,
   "metadata": {},
   "outputs": [],
   "source": [
    "kinord=['GPH','CNS', 'KI DS','KBH','LIME','LIME', 'MedS','MMK','OnkPat']\n",
    "kisolna=['CMB','FyFa','MBB','MEB','MTC','IMM','Neuro','NVS','DentMed']\n",
    "kisyd=['BioNut','KI SÖS','CLINTEC','LabMed','MedH']\n",
    "def categorise(row):  \n",
    "    i=row['short_name']\n",
    "    if any(i in kinord for i in kinord):\n",
    "        return 'KI Nord'\n",
    "    elif any(i in kisyd for i in kisyd):\n",
    "        return 'KI Syd'\n",
    "    elif any(i in kisolna for i in kisolna):\n",
    "        return 'KI Solna'\n"
   ]
  },
  {
   "cell_type": "code",
   "execution_count": 22,
   "metadata": {},
   "outputs": [],
   "source": [
    "ki_nord=df_clean[df_clean.short_name.isin(['GPH','CNS', 'KI DS','KBH','LIME','LIME', 'MedS','MMK','OnkPat'])]\n",
    "ki_syd=df_clean[df_clean.short_name.isin(['BioNut','KI SÖS','CLINTEC','LabMed','MedH'])]\n",
    "ki_solna=df_clean[df_clean.short_name.isin(['CMB','FyFa','MBB','MEB','MTC','IMM','Neuro','NVS','DentMed'])]\n"
   ]
  },
  {
   "cell_type": "code",
   "execution_count": 23,
   "metadata": {},
   "outputs": [
    {
     "name": "stderr",
     "output_type": "stream",
     "text": [
      "/var/folders/wx/sx67klw51p99ypb39mtcwx_00000gn/T/ipykernel_4435/2803223710.py:1: SettingWithCopyWarning: \n",
      "A value is trying to be set on a copy of a slice from a DataFrame.\n",
      "Try using .loc[row_indexer,col_indexer] = value instead\n",
      "\n",
      "See the caveats in the documentation: https://pandas.pydata.org/pandas-docs/stable/user_guide/indexing.html#returning-a-view-versus-a-copy\n",
      "  ki_nord['short_name']='KI Nord'\n",
      "/var/folders/wx/sx67klw51p99ypb39mtcwx_00000gn/T/ipykernel_4435/2803223710.py:2: SettingWithCopyWarning: \n",
      "A value is trying to be set on a copy of a slice from a DataFrame.\n",
      "Try using .loc[row_indexer,col_indexer] = value instead\n",
      "\n",
      "See the caveats in the documentation: https://pandas.pydata.org/pandas-docs/stable/user_guide/indexing.html#returning-a-view-versus-a-copy\n",
      "  ki_solna['short_name']='KI Solna'\n",
      "/var/folders/wx/sx67klw51p99ypb39mtcwx_00000gn/T/ipykernel_4435/2803223710.py:3: SettingWithCopyWarning: \n",
      "A value is trying to be set on a copy of a slice from a DataFrame.\n",
      "Try using .loc[row_indexer,col_indexer] = value instead\n",
      "\n",
      "See the caveats in the documentation: https://pandas.pydata.org/pandas-docs/stable/user_guide/indexing.html#returning-a-view-versus-a-copy\n",
      "  ki_syd['short_name']='KI Syd'\n"
     ]
    }
   ],
   "source": [
    "ki_nord['short_name']='KI Nord'\n",
    "ki_solna['short_name']='KI Solna'\n",
    "ki_syd['short_name']='KI Syd'"
   ]
  },
  {
   "cell_type": "code",
   "execution_count": 27,
   "metadata": {},
   "outputs": [],
   "source": [
    "pd.options.display.max_rows = 4000\n",
    "round(pd.concat([ki_nord, ki_syd,ki_solna,df_clean]).groupby(['Publication Year','short_name']).mean()*100,1).to_csv('groups_and_institutions.csv')"
   ]
  },
  {
   "cell_type": "code",
   "execution_count": 25,
   "metadata": {},
   "outputs": [],
   "source": [
    "round(df_clean.groupby(['Publication Year','short_name']).mean()*100,1).to_csv('general.csv')"
   ]
  },
  {
   "cell_type": "code",
   "execution_count": 5,
   "metadata": {},
   "outputs": [],
   "source": [
    "df=df[df['short_name']=='CNS']"
   ]
  },
  {
   "cell_type": "code",
   "execution_count": 6,
   "metadata": {},
   "outputs": [],
   "source": [
    "df.to_csv('cns.csv')"
   ]
  },
  {
   "cell_type": "code",
   "execution_count": 26,
   "metadata": {},
   "outputs": [
    {
     "ename": "NameError",
     "evalue": "name 'ki_cns' is not defined",
     "output_type": "error",
     "traceback": [
      "\u001b[0;31m---------------------------------------------------------------------------\u001b[0m",
      "\u001b[0;31mNameError\u001b[0m                                 Traceback (most recent call last)",
      "\u001b[0;32m/var/folders/wx/sx67klw51p99ypb39mtcwx_00000gn/T/ipykernel_4435/3020322818.py\u001b[0m in \u001b[0;36m<module>\u001b[0;34m\u001b[0m\n\u001b[0;32m----> 1\u001b[0;31m \u001b[0mround\u001b[0m\u001b[0;34m(\u001b[0m\u001b[0mpd\u001b[0m\u001b[0;34m.\u001b[0m\u001b[0mconcat\u001b[0m\u001b[0;34m(\u001b[0m\u001b[0;34m[\u001b[0m\u001b[0mki_nord\u001b[0m\u001b[0;34m,\u001b[0m \u001b[0mki_syd\u001b[0m\u001b[0;34m,\u001b[0m\u001b[0mki_solna\u001b[0m\u001b[0;34m,\u001b[0m\u001b[0mki_cns\u001b[0m\u001b[0;34m]\u001b[0m\u001b[0;34m)\u001b[0m\u001b[0;34m.\u001b[0m\u001b[0mgroupby\u001b[0m\u001b[0;34m(\u001b[0m\u001b[0;34m[\u001b[0m\u001b[0;34m'Publication Year'\u001b[0m\u001b[0;34m,\u001b[0m\u001b[0;34m'Group'\u001b[0m\u001b[0;34m]\u001b[0m\u001b[0;34m)\u001b[0m\u001b[0;34m.\u001b[0m\u001b[0mmean\u001b[0m\u001b[0;34m(\u001b[0m\u001b[0;34m)\u001b[0m\u001b[0;34m*\u001b[0m\u001b[0;36m100\u001b[0m\u001b[0;34m,\u001b[0m\u001b[0;36m1\u001b[0m\u001b[0;34m)\u001b[0m\u001b[0;34m.\u001b[0m\u001b[0mto_csv\u001b[0m\u001b[0;34m(\u001b[0m\u001b[0;34m'cns_pres_data.csv'\u001b[0m\u001b[0;34m)\u001b[0m\u001b[0;34m\u001b[0m\u001b[0;34m\u001b[0m\u001b[0m\n\u001b[0m",
      "\u001b[0;31mNameError\u001b[0m: name 'ki_cns' is not defined"
     ]
    }
   ],
   "source": [
    "round(pd.concat([ki_nord, ki_syd,ki_solna,ki_cns]).groupby(['Publication Year','Group']).mean()*100,1).to_csv('cns_pres_data.csv')"
   ]
  },
  {
   "cell_type": "code",
   "execution_count": null,
   "metadata": {},
   "outputs": [],
   "source": [
    "df2 = pd.concat([ki_nord, ki_syd,ki_solna,ki_cns]).groupby(['Publication Year','Group'])['Group'].count()"
   ]
  },
  {
   "cell_type": "code",
   "execution_count": null,
   "metadata": {},
   "outputs": [
    {
     "data": {
      "text/plain": [
       "Group    Journal/Book              \n",
       "KI Nord  PLoS One                      447\n",
       "         Sci Rep                       378\n",
       "         BMJ Open                      320\n",
       "         Nat Commun                    145\n",
       "         BMC Public Health             120\n",
       "                                      ... \n",
       "         World J Emerg Surg              1\n",
       "         Worldviews Evid Based Nurs      1\n",
       "         Zoonoses Public Health          1\n",
       "         eNeuro                          1\n",
       "         mBio                            1\n",
       "Name: Journal/Book, Length: 932, dtype: int64"
      ]
     },
     "execution_count": 21,
     "metadata": {},
     "output_type": "execute_result"
    }
   ],
   "source": [
    "ki_nord.groupby('Group')['Journal/Book'].value_counts()"
   ]
  },
  {
   "cell_type": "code",
   "execution_count": null,
   "metadata": {},
   "outputs": [
    {
     "data": {
      "text/plain": [
       "Group     Journal/Book              \n",
       "KI Solna  Sci Rep                       330\n",
       "          PLoS One                      252\n",
       "          Nat Commun                    247\n",
       "          BMJ Open                      155\n",
       "          Elife                          63\n",
       "                                       ... \n",
       "          Womens Health (Lond)            1\n",
       "          World J Biol Psychiatry         1\n",
       "          World J Surg Oncol              1\n",
       "          Worldviews Evid Based Nurs      1\n",
       "          Z Gerontol Geriatr              1\n",
       "Name: Journal/Book, Length: 777, dtype: int64"
      ]
     },
     "execution_count": 22,
     "metadata": {},
     "output_type": "execute_result"
    }
   ],
   "source": [
    "ki_solna.groupby('Group')['Journal/Book'].value_counts()"
   ]
  },
  {
   "cell_type": "code",
   "execution_count": null,
   "metadata": {},
   "outputs": [
    {
     "data": {
      "text/plain": [
       "Group   Journal/Book         \n",
       "KI Syd  Sci Rep                  166\n",
       "        PLoS One                 125\n",
       "        Nat Commun                76\n",
       "        Front Immunol             54\n",
       "        BMJ Open                  51\n",
       "                                ... \n",
       "        Travel Med Infect Dis      1\n",
       "        Unfallchirurg              1\n",
       "        Updates Surg               1\n",
       "        Vox Sang                   1\n",
       "        World J Surg Oncol         1\n",
       "Name: Journal/Book, Length: 517, dtype: int64"
      ]
     },
     "execution_count": 23,
     "metadata": {},
     "output_type": "execute_result"
    }
   ],
   "source": [
    "ki_syd.groupby('Group')['Journal/Book'].value_counts()"
   ]
  },
  {
   "cell_type": "code",
   "execution_count": null,
   "metadata": {},
   "outputs": [
    {
     "data": {
      "text/plain": [
       "Group  Journal/Book                   \n",
       "CNS    Sci Rep                            86\n",
       "       PLoS One                           67\n",
       "       BMJ Open                           62\n",
       "       BMC Psychiatry                     47\n",
       "       Int J Environ Res Public Health    34\n",
       "                                          ..\n",
       "       Violence Against Women              1\n",
       "       Work                                1\n",
       "       World J Surg                        1\n",
       "       Worldviews Evid Based Nurs          1\n",
       "       eNeuro                              1\n",
       "Name: Journal/Book, Length: 364, dtype: int64"
      ]
     },
     "execution_count": 24,
     "metadata": {},
     "output_type": "execute_result"
    }
   ],
   "source": [
    "ki_cns.groupby('Group')['Journal/Book'].value_counts()"
   ]
  },
  {
   "cell_type": "code",
   "execution_count": null,
   "metadata": {},
   "outputs": [
    {
     "data": {
      "text/plain": [
       "Group   Journal/Book                   \n",
       "CNS     Sci Rep                            86\n",
       "        PLoS One                           67\n",
       "        BMJ Open                           62\n",
       "        BMC Psychiatry                     47\n",
       "        Int J Environ Res Public Health    34\n",
       "                                           ..\n",
       "KI Syd  Travel Med Infect Dis               1\n",
       "        Unfallchirurg                       1\n",
       "        Updates Surg                        1\n",
       "        Vox Sang                            1\n",
       "        World J Surg Oncol                  1\n",
       "Name: Journal/Book, Length: 2590, dtype: int64"
      ]
     },
     "execution_count": 20,
     "metadata": {},
     "output_type": "execute_result"
    }
   ],
   "source": [
    "pd.options.display.max_seq_items = 2000\n",
    "\n",
    "pd.concat([ki_nord, ki_syd,ki_solna,ki_cns]).groupby('Group')['Journal/Book'].value_counts()"
   ]
  },
  {
   "cell_type": "code",
   "execution_count": null,
   "metadata": {},
   "outputs": [],
   "source": [
    "df2.to_csv('publications_cns_pres.csv')"
   ]
  },
  {
   "cell_type": "code",
   "execution_count": null,
   "metadata": {},
   "outputs": [],
   "source": [
    "round(ki_nord.groupby(['Publication Year','short_name']).mean()*100,1).to_csv('ki_nord.csv')\n",
    "round(ki_syd.groupby(['Publication Year','short_name']).mean()*100,1).to_csv('ki_syd.csv')\n",
    "round(ki_solna.groupby(['Publication Year','short_name']).mean()*100,1).to_csv('ki_solna.csv')"
   ]
  }
 ],
 "metadata": {
  "kernelspec": {
   "display_name": "Python 3.9.7 ('base')",
   "language": "python",
   "name": "python3"
  },
  "language_info": {
   "codemirror_mode": {
    "name": "ipython",
    "version": 3
   },
   "file_extension": ".py",
   "mimetype": "text/x-python",
   "name": "python",
   "nbconvert_exporter": "python",
   "pygments_lexer": "ipython3",
   "version": "3.12.2"
  },
  "orig_nbformat": 4,
  "vscode": {
   "interpreter": {
    "hash": "69b35e572c017242754d2580afe35edb3e077b807609d926fbd2f462de31a9e0"
   }
  }
 },
 "nbformat": 4,
 "nbformat_minor": 2
}
